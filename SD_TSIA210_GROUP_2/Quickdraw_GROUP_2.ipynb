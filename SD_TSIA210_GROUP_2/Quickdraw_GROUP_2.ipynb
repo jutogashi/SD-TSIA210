{
  "nbformat": 4,
  "nbformat_minor": 0,
  "metadata": {
    "colab": {
      "name": "Quickdraw_GROUP_2.ipynb",
      "provenance": [],
      "collapsed_sections": []
    },
    "kernelspec": {
      "name": "python3",
      "display_name": "Python 3"
    },
    "language_info": {
      "name": "python"
    },
    "accelerator": "GPU"
  },
  "cells": [
    {
      "cell_type": "markdown",
      "metadata": {
        "id": "Mf-1axzm-4uw"
      },
      "source": [
        "# SD-TSIA210 - Machine Learning\n",
        "## Binary classification: Ants and Grapes\n",
        "### Group 2: \n",
        "\n",
        "*   Ferreira Torres, Bernardo\n",
        "*   Morina, Alessandro\n",
        "*   Souza Pinto Medeiros, Gabriel\n",
        "*   Togashi De Miranda, Júlia"
      ]
    },
    {
      "cell_type": "markdown",
      "metadata": {
        "id": "2YLINBRfBegS"
      },
      "source": [
        "## Importing data and libraries"
      ]
    },
    {
      "cell_type": "code",
      "metadata": {
        "id": "yZRfvU5U8emi",
        "colab": {
          "base_uri": "https://localhost:8080/"
        },
        "outputId": "297b66ee-3f70-4072-875b-e2e94eff9799"
      },
      "source": [
        "import numpy as np\n",
        "import random\n",
        "from matplotlib import pyplot as plt\n",
        "from sklearn import svm\n",
        "from sklearn.svm import SVC\n",
        "from sklearn.preprocessing import StandardScaler\n",
        "from sklearn.model_selection import cross_validate, train_test_split, GridSearchCV\n",
        "from sklearn.ensemble import RandomForestClassifier\n",
        "\n",
        "\n",
        "import tensorflow as tf\n",
        "import keras\n",
        "from keras.models import Sequential\n",
        "from keras.layers import Dense, Activation, Flatten, Dropout\n",
        "from tensorflow.keras.layers import Dense, BatchNormalization\n",
        "from tensorflow.keras import optimizers\n",
        "from tensorflow.keras.layers import Conv2D, MaxPooling2D\n",
        "\n",
        "print(tf.keras.__version__)"
      ],
      "execution_count": null,
      "outputs": [
        {
          "output_type": "stream",
          "text": [
            "2.4.0\n"
          ],
          "name": "stdout"
        }
      ]
    },
    {
      "cell_type": "code",
      "metadata": {
        "id": "84ugcd5yTDIa",
        "colab": {
          "base_uri": "https://localhost:8080/"
        },
        "outputId": "d788ac9f-8e43-432c-de9d-789d08eb7e19"
      },
      "source": [
        "! git clone --recursive https://github.com/torresbf/ImagesTelecom\n",
        "!unzip -qq 'ImagesTelecom/Quidraw_data.zip' "
      ],
      "execution_count": null,
      "outputs": [
        {
          "output_type": "stream",
          "text": [
            "Cloning into 'ImagesTelecom'...\n",
            "remote: Enumerating objects: 14, done.\u001b[K\n",
            "remote: Counting objects: 100% (14/14), done.\u001b[K\n",
            "remote: Compressing objects: 100% (13/13), done.\u001b[K\n",
            "remote: Total 14 (delta 2), reused 13 (delta 1), pack-reused 0\u001b[K\n",
            "Unpacking objects: 100% (14/14), done.\n"
          ],
          "name": "stdout"
        }
      ]
    },
    {
      "cell_type": "code",
      "metadata": {
        "id": "1CYs0V14U8Vz",
        "colab": {
          "base_uri": "https://localhost:8080/"
        },
        "outputId": "89149141-8528-4513-e2e0-4740125c02ae"
      },
      "source": [
        "!unzip -qq 'ImagesTelecom/Quidraw_data.zip' "
      ],
      "execution_count": null,
      "outputs": [
        {
          "output_type": "stream",
          "text": [
            "replace Quidraw_data/G_1_ant.npy? [y]es, [n]o, [A]ll, [N]one, [r]ename: y\n",
            "replace Quidraw_data/G_1_grapes.npy? [y]es, [n]o, [A]ll, [N]one, [r]ename: A\n"
          ],
          "name": "stdout"
        }
      ]
    },
    {
      "cell_type": "code",
      "metadata": {
        "id": "4ca7qNImBrLL"
      },
      "source": [
        "# Loads ants and grapes images, as well as test images and labels\n",
        "ant = np.load('Quidraw_data/G_2_ant.npy')\n",
        "grapes = np.load('Quidraw_data/G_2_grapes.npy')\n",
        "test_labels = np.load('Quidraw_data/test_labels.npy')\n",
        "test_images = np.load('Quidraw_data/test_images.npy')"
      ],
      "execution_count": null,
      "outputs": []
    },
    {
      "cell_type": "markdown",
      "metadata": {
        "id": "ULreP1F-Za1o"
      },
      "source": [
        "## Exploring the data"
      ]
    },
    {
      "cell_type": "markdown",
      "metadata": {
        "id": "O2ki4ixTB8eo"
      },
      "source": [
        "In this sample of the Quickdraw dataset, there are two categories, ants and grapes. If an image is classified as ant, then it is labeled as 0, and if it is classified as grape, it has the label 1.\n",
        "\n",
        "The images are encoded as a array of size 784, which corresponds to a black and white image of dimensions 28x28. The image values range from 0 to 255.\n",
        "\n",
        "As can be seen bellow, the classes are balanced, that is, there is the same amount of data from the ant class and grape class. Therefore, no problems related to unbalanced dataset will be encountered. "
      ]
    },
    {
      "cell_type": "code",
      "metadata": {
        "colab": {
          "base_uri": "https://localhost:8080/"
        },
        "id": "0cFxqJCD8jwa",
        "outputId": "a4d75298-8755-4bc2-8b1a-79fe8aedfaf7"
      },
      "source": [
        "print(f'Ant has shape {ant.shape}')\n",
        "print(f'Grapes has shape {grapes.shape}')\n",
        "print(f'test_labels has shape {test_labels.shape}')\n",
        "print(f'test_images has shape {test_images.shape}')"
      ],
      "execution_count": null,
      "outputs": [
        {
          "output_type": "stream",
          "text": [
            "Ant has shape (1000, 784)\n",
            "Grapes has shape (1000, 784)\n",
            "test_labels has shape (1000,)\n",
            "test_images has shape (1000, 784)\n"
          ],
          "name": "stdout"
        }
      ]
    },
    {
      "cell_type": "code",
      "metadata": {
        "colab": {
          "base_uri": "https://localhost:8080/",
          "height": 321
        },
        "id": "jegyn2kG8rTg",
        "outputId": "5617f025-7094-49d2-a0c3-ba03f14bb37c"
      },
      "source": [
        "# Plotting examples from first images\n",
        "plt.figure(figsize=(10, 6))\n",
        "i=1\n",
        "for idx in range(0,5):\n",
        "    plt.subplot(2, 5, i)\n",
        "    plt.imshow(ant[idx].reshape(-1, 28),cmap='gray')\n",
        "    plt.axis('off')\n",
        "    plt.title(\"Ant\")\n",
        "    i += 1\n",
        "    plt.subplot(2, 5, i)\n",
        "    plt.imshow(grapes[idx].reshape(-1, 28),cmap='gray')\n",
        "    plt.axis('off')\n",
        "    plt.title(\"Grape\")\n",
        "    i += 1\n",
        "plt.show()"
      ],
      "execution_count": null,
      "outputs": [
        {
          "output_type": "display_data",
          "data": {
            "image/png": "[encoded data removed]",
            "text/plain": [
              "<Figure size 720x432 with 10 Axes>"
            ]
          },
          "metadata": {
            "tags": [],
            "needs_background": "light"
          }
        }
      ]
    },
    {
      "cell_type": "markdown",
      "metadata": {
        "id": "H-pvjBCmqqP6"
      },
      "source": [
        "As can be seen above, the drawings from both categories varies a lot (much more than the MNIST digit dataset for example). Even knowing that there are only ants and grapes, some images are difficult to classify manually (ex: the last imageexample above), therefore , **difficulties in the classification can be expected in those examples.**  "
      ]
    },
    {
      "cell_type": "code",
      "metadata": {
        "id": "cJHACeM9F3Bu"
      },
      "source": [
        "# Concatenate ants and grapes and create respective labels\n",
        "data = np.concatenate((ant, grapes))\n",
        "labels = np.concatenate((np.zeros(len(ant)), np.ones(len(grapes))))\n",
        "\n",
        "# Cast pixels from uint8 to float32\n",
        "data = data.astype('float32')\n",
        "\n",
        "# Imports test set\n",
        "X_test = test_images.astype('float32')\n",
        "y_test = test_labels\n",
        "\n",
        "# Splits data in train and validation\n",
        "X_train, X_val, y_train, y_val = train_test_split(data, labels, test_size=0.25, random_state=0)"
      ],
      "execution_count": null,
      "outputs": []
    },
    {
      "cell_type": "markdown",
      "metadata": {
        "id": "NHJCS8zYdYRS"
      },
      "source": [
        "Below can be seen that splitting the data into train and validation still maintains the proportion between classes. It can also be seen that the test set is also equably distributed."
      ]
    },
    {
      "cell_type": "code",
      "metadata": {
        "colab": {
          "base_uri": "https://localhost:8080/",
          "height": 325
        },
        "id": "lc7xIac-csaa",
        "outputId": "05233c90-0733-4a89-f465-9136023c6858"
      },
      "source": [
        "fig, axs = plt.subplots(1, 3, sharey=True,figsize=(10, 4))\n",
        "fig.suptitle('Proportion of samples from each class')\n",
        "axs[0].hist(y_train,weights=np.ones_like(y_train)/len(y_train))\n",
        "axs[0].set_xlabel('Training set')\n",
        "axs[1].hist(y_val,weights=np.ones_like(y_val)/len(y_val))\n",
        "axs[1].set_xlabel('Validation set')\n",
        "axs[2].hist(y_test,weights=np.ones_like(y_test)/len(y_test))\n",
        "axs[2].set_xlabel('Test set')\n",
        "axs[0].set_ylabel('Proportion')"
      ],
      "execution_count": null,
      "outputs": [
        {
          "output_type": "execute_result",
          "data": {
            "text/plain": [
              "Text(0, 0.5, 'Proportion')"
            ]
          },
          "metadata": {
            "tags": []
          },
          "execution_count": 12
        },
        {
          "output_type": "display_data",
          "data": {
            "image/png": "[encoded data removed]",
            "text/plain": [
              "<Figure size 720x288 with 3 Axes>"
            ]
          },
          "metadata": {
            "tags": [],
            "needs_background": "light"
          }
        }
      ]
    },
    {
      "cell_type": "code",
      "metadata": {
        "id": "D6uKVEw8E5V6"
      },
      "source": [
        "# Normalizing the images so that they have zero mean and standard deviation\n",
        "scaler = StandardScaler()\n",
        "X_train = scaler.fit_transform(X_train)\n",
        "X_test = scaler.transform(X_test)\n",
        "X_val = scaler.transform(X_val)"
      ],
      "execution_count": null,
      "outputs": []
    },
    {
      "cell_type": "markdown",
      "metadata": {
        "id": "TBEiwoSaFPlw"
      },
      "source": [
        "Besides the difficult state above, related to the quality of the drawings, another problem that may be faced is the fact that we are dealing with images.\n",
        "\n",
        "\n",
        "Many times, in the real world, features are extracted from images to form a dataset (for example, in medical image, getting the area, border, color of a cell) and then, the methods are run over these extracted features.\n",
        "\n",
        "\n",
        "As the ant/grape problem is composed of relatively small, simple, black and gray, the group will try to apply the methods seen in the course to the pixel intensity of the vectorize images.\n",
        "\n",
        "\n",
        "It’s already predicted that this approach can have some problems, for example, if most of our ant training examples are “horizontal”, an ant drawn “vertically” mighty be misclassified.\n",
        "  \n"
      ]
    },
    {
      "cell_type": "markdown",
      "metadata": {
        "id": "B9oUJoZ0LTj8"
      },
      "source": [
        "## Support Vector machine (SVM)"
      ]
    },
    {
      "cell_type": "markdown",
      "metadata": {
        "id": "e6rerW_3vsCV"
      },
      "source": [
        "The group decided to first implement a simple linear SVM, firstly, to see the results of methods seen in the course and also to set this as a benchmark for the other more robust methods.\n",
        "\n",
        "The c hyperparameter was chosen manually, as the one that gave better results in the overall problem. It is important to remember that c is related to the penalization for a mistake made. The higher the c, the greater is the penalization. Therefore, the c constant is the tradeoff between minimizing the model’s complexity (maximizing the margins) and allowing misclassifications."
      ]
    },
    {
      "cell_type": "code",
      "metadata": {
        "colab": {
          "base_uri": "https://localhost:8080/"
        },
        "id": "_n2nyrqsFmil",
        "outputId": "ea0aa48c-3f22-441a-d240-2ab617ad4c48"
      },
      "source": [
        "c = 0.001\n",
        "clf = SVC(kernel='linear', C=c)\n",
        "clf.fit(X_train, y_train)\n",
        "\n",
        "print(f'{clf.support_vectors_.shape[0]} support vectors found')\n",
        "print(f'Score on train data = {clf.score(X_train, y_train)} ')\n",
        "print(f'Score on validation data = {clf.score(X_val, y_val)} ')\n",
        "print(f'Score on test data = {clf.score(X_test, y_test)} ')\n",
        "\n",
        "pred = clf.predict(X_test)"
      ],
      "execution_count": null,
      "outputs": [
        {
          "output_type": "stream",
          "text": [
            "632 support vectors found\n",
            "Score on train data = 0.896 \n",
            "Score on validation data = 0.85 \n",
            "Score on test data = 0.843 \n"
          ],
          "name": "stdout"
        }
      ]
    },
    {
      "cell_type": "markdown",
      "metadata": {
        "id": "CMob0IRbzLym"
      },
      "source": [
        "Surprisingly, the linear SVM model already gave acceptable results. Below can be seen some examples of mistakes made in the prediction. As can be seen, some mistakes are more understandable than others.\n",
        "\n",
        "For example, the first image in the first row is understandable (it looks more like an ant than a grape to the human eye). The second image from the first row is less understandable (it looks like an ant, its just not in the usual position that ants are represented) and can be due to the fact that, as stated above, we are only taking the pixels intensities into account.    \n"
      ]
    },
    {
      "cell_type": "code",
      "metadata": {
        "colab": {
          "base_uri": "https://localhost:8080/",
          "height": 321
        },
        "id": "NF3EM5QmsXxx",
        "outputId": "dd7e8716-b922-4f6e-bf59-9c7a17e01870"
      },
      "source": [
        "#Getting array of indexes of misclassifications\n",
        "error=np.ravel(np.array(np.where(np.abs(pred-np.ravel(y_test)))))  \n",
        "random.Random(1).shuffle(error)\n",
        "# Plotting examples from misclassifications images\n",
        "plt.figure(figsize=(10, 6))\n",
        "for idx in range(0,10):\n",
        "    plt.subplot(2, 5, idx+1)\n",
        "    plt.imshow(X_test[error[idx]].reshape(-1, 28),cmap='gray')\n",
        "    plt.axis('off')\n",
        "    if pred[error[idx]]==0: i=\"Ant\"\n",
        "    else: i = \"Grape\"\n",
        "    plt.title(\"Pred as: \" + i)\n",
        "plt.show()"
      ],
      "execution_count": null,
      "outputs": [
        {
          "output_type": "display_data",
          "data": {
            "image/png": "[encoded data removed]",
            "text/plain": [
              "<Figure size 720x432 with 10 Axes>"
            ]
          },
          "metadata": {
            "tags": [],
            "needs_background": "light"
          }
        }
      ]
    },
    {
      "cell_type": "markdown",
      "metadata": {
        "id": "z1XOYGZTUgly"
      },
      "source": [
        "As seen in class, the Kernel method can be used in SVM so that the data is projected into a higher dimensional space, where it may be linearly separable by SVM. As surprisingly satisfactory results were obtained with the linear kernel, the performance with other kernels will be analyzed.\n",
        "\n",
        "\n",
        "As for this problem there are a big number of hyperparameters that can influence the results, the Cross Validation was chosen to find the best ones. \n"
      ]
    },
    {
      "cell_type": "code",
      "metadata": {
        "colab": {
          "base_uri": "https://localhost:8080/"
        },
        "id": "Q2nZhJyMHqjE",
        "outputId": "6e93afba-b03d-4cbc-b368-f0463ae4861f"
      },
      "source": [
        "# GridSearchCV defaults to 5-fold CV\n",
        "\n",
        "params = {'kernel' : ['rbf', 'poly'],\n",
        "          'C' : [.01, 0.5, 2],\n",
        "          'gamma' : [.0005, .001, .05],\n",
        "          'degree' : [2,4]}\n",
        "\n",
        "svc = SVC()\n",
        "\n",
        "clf_cv = GridSearchCV(svc, params)\n",
        "clf_cv.fit(np.concatenate((X_train,X_val)), np.concatenate((y_train,y_val)))\n",
        "\n",
        "print(f'Score on train data = {clf_cv.score(np.concatenate((X_train,X_val)), np.concatenate((y_train,y_val)))} ')\n",
        "#print(f'Score on validation data = {clf_cv.score(X_val, y_val)} ')\n",
        "print(f'Score on test data = {clf_cv.score(X_test, y_test)} ')\n",
        "print(\"Best params:\", clf_cv.best_params_)\n"
      ],
      "execution_count": null,
      "outputs": [
        {
          "output_type": "stream",
          "text": [
            "Score on train data = 0.972 \n",
            "Score on test data = 0.862 \n",
            "Best params: {'C': 2, 'degree': 2, 'gamma': 0.001, 'kernel': 'rbf'}\n"
          ],
          "name": "stdout"
        }
      ]
    },
    {
      "cell_type": "markdown",
      "metadata": {
        "id": "LNYLQMLochPS"
      },
      "source": [
        "*The* best resulting kernel was the rbf, and each hyperparameter can be seen above. Event though the kernel was different from linear, the results don’t vary much. "
      ]
    },
    {
      "cell_type": "markdown",
      "metadata": {
        "id": "4pBfXg8sLJrV"
      },
      "source": [
        "## Random Forest"
      ]
    },
    {
      "cell_type": "markdown",
      "metadata": {
        "id": "8dSCw49ZHDyM"
      },
      "source": [
        "Following the methods seen in the course, the random tree model was chosen. This was due to the fact that trees usually have the problem of high variance and their advantage, high interpretability, is not very useful in this case of pixel intensity.\n",
        "\n",
        "\n",
        "Random trees on the other hand, are bagging of trees, that consider only a subsample of the p features at each split, that way creating many uncorrelated bagged trees which decreases the variance and the chance of overfitting.\n"
      ]
    },
    {
      "cell_type": "code",
      "metadata": {
        "colab": {
          "base_uri": "https://localhost:8080/"
        },
        "id": "_u162V-wLIzU",
        "outputId": "0a98d6d9-4aea-4334-b4e6-10d2818bc6a7"
      },
      "source": [
        "RF=RandomForestClassifier(random_state=0)\n",
        "p_grid_RF = {'n_estimators': [10,15,20,25,30], 'min_samples_leaf': [2,3,4,5,6], 'max_features': ['sqrt','log2']}   \n",
        "\n",
        "grid_RF = GridSearchCV(estimator=RF, param_grid=p_grid_RF, scoring=\"accuracy\", cv=5)\n",
        "grid_RF.fit(np.concatenate((X_train,X_val)), np.concatenate((y_train,y_val)))\n",
        "\n",
        "best_params_f= grid_RF.best_params_\n",
        "\n",
        "print(\"Best Validation Score: {}\".format(grid_RF.best_score_))\n",
        "print(\"Best params: {}\".format(grid_RF.best_params_))\n",
        "print(\"Random Forest test score :\",grid_RF.score(X_test,y_test))"
      ],
      "execution_count": null,
      "outputs": [
        {
          "output_type": "stream",
          "text": [
            "Best Validation Score: 0.8540000000000001\n",
            "Best params: {'max_features': 'sqrt', 'min_samples_leaf': 6, 'n_estimators': 30}\n",
            "Random Forest test score : 0.847\n"
          ],
          "name": "stdout"
        }
      ]
    },
    {
      "cell_type": "code",
      "metadata": {
        "id": "f-KVsHRconiH",
        "colab": {
          "base_uri": "https://localhost:8080/"
        },
        "outputId": "12547465-56b5-43df-96e0-8d82e2349ffd"
      },
      "source": [
        "clf = RandomForestClassifier(max_depth=2, random_state=0)\n",
        "clf.fit(np.concatenate((X_train,X_val)), np.concatenate((y_train,y_val)))\n"
      ],
      "execution_count": null,
      "outputs": [
        {
          "output_type": "execute_result",
          "data": {
            "text/plain": [
              "RandomForestClassifier(bootstrap=True, ccp_alpha=0.0, class_weight=None,\n",
              "                       criterion='gini', max_depth=2, max_features='auto',\n",
              "                       max_leaf_nodes=None, max_samples=None,\n",
              "                       min_impurity_decrease=0.0, min_impurity_split=None,\n",
              "                       min_samples_leaf=1, min_samples_split=2,\n",
              "                       min_weight_fraction_leaf=0.0, n_estimators=100,\n",
              "                       n_jobs=None, oob_score=False, random_state=0, verbose=0,\n",
              "                       warm_start=False)"
            ]
          },
          "metadata": {
            "tags": []
          },
          "execution_count": 22
        }
      ]
    },
    {
      "cell_type": "markdown",
      "metadata": {
        "id": "OFSjD_8sJUzS"
      },
      "source": [
        "For the same reason as the kernel-SVM, (large number of hyperparameters), the chosen approach was to use a Cross-Validation to determine the best parameters. The results were similar to the ones found above with the SVM."
      ]
    },
    {
      "cell_type": "markdown",
      "metadata": {
        "id": "6Iii15vMM5_m"
      },
      "source": [
        "## Neural Network approach"
      ]
    },
    {
      "cell_type": "markdown",
      "metadata": {
        "id": "6hWmG8_ifZ8O"
      },
      "source": [
        "Due to the similarity of this problem with the MNIST dataset seen in class, one obvious choice of method is a multi-layer perceptron (MLP). First, a simple network will be defined with one hidden-layer. The Relu function will be used in this hidden layer and, as it’s a binary classification problem, the sigmoid function on the output.\n",
        "\n",
        "$$ (784) \\rightarrow (300) \\rightarrow (1) $$\n",
        "\n",
        "\n",
        "Some other implementation choices that are worth mentioning is the use of Dropout regularization. Dropout involves randomly turning off neurons. This removes\n",
        "different paths in the network aiming to find robust connections to represent the data, thus avoiding overfitting.\n",
        "\n",
        "\n",
        "Also, for the optimization Adam will be used. At the same time, it takes advantage of the momentum (a term added to the gradient update which helps stabilize training) and normalizes the learning rate by the recent\n",
        "magnitude of the gradient.\n"
      ]
    },
    {
      "cell_type": "code",
      "metadata": {
        "id": "whsu97W_M9ch"
      },
      "source": [
        "# Defining an architecture\n",
        "input_shape = 784\n",
        "hidden_1 = 300\n",
        "output_shape = 1\n",
        "\n",
        "model = Sequential()\n",
        "model.add(Dense(hidden_1, input_shape=(input_shape,),activation='relu'))\n",
        "model.add(Dropout(0.3))\n",
        "model.add(Dense(output_shape, activation='sigmoid', input_shape=(hidden_1, )))\n"
      ],
      "execution_count": null,
      "outputs": []
    },
    {
      "cell_type": "code",
      "metadata": {
        "colab": {
          "base_uri": "https://localhost:8080/"
        },
        "id": "0noqZN-5ORkg",
        "outputId": "e4b2a2a0-c285-401d-cf45-6aa09b31d094"
      },
      "source": [
        "model.compile(optimizer='adam', loss='binary_crossentropy', metrics=['accuracy'])\n",
        "model.summary()"
      ],
      "execution_count": null,
      "outputs": [
        {
          "output_type": "stream",
          "text": [
            "Model: \"sequential\"\n",
            "_________________________________________________________________\n",
            "Layer (type)                 Output Shape              Param #   \n",
            "=================================================================\n",
            "dense (Dense)                (None, 300)               235500    \n",
            "_________________________________________________________________\n",
            "dropout (Dropout)            (None, 300)               0         \n",
            "_________________________________________________________________\n",
            "dense_1 (Dense)              (None, 1)                 301       \n",
            "=================================================================\n",
            "Total params: 235,801\n",
            "Trainable params: 235,801\n",
            "Non-trainable params: 0\n",
            "_________________________________________________________________\n"
          ],
          "name": "stdout"
        }
      ]
    },
    {
      "cell_type": "code",
      "metadata": {
        "colab": {
          "base_uri": "https://localhost:8080/"
        },
        "id": "rU7AT4KhOdwa",
        "outputId": "4365ee40-7bbc-4b95-e816-d4281b58ef8f"
      },
      "source": [
        "epochs = 10\n",
        "batch_size = 64\n",
        "\n",
        "print('Training')\n",
        "history = model.fit(X_train, y_train, epochs=epochs, batch_size=batch_size, validation_data = (X_val, y_val))  "
      ],
      "execution_count": null,
      "outputs": [
        {
          "output_type": "stream",
          "text": [
            "Training\n",
            "Epoch 1/10\n",
            "24/24 [==============================] - 0s 7ms/step - loss: 0.4217 - accuracy: 0.7907 - val_loss: 0.6257 - val_accuracy: 0.7720\n",
            "Epoch 2/10\n",
            "24/24 [==============================] - 0s 5ms/step - loss: 0.2690 - accuracy: 0.8887 - val_loss: 0.5727 - val_accuracy: 0.8160\n",
            "Epoch 3/10\n",
            "24/24 [==============================] - 0s 5ms/step - loss: 0.2278 - accuracy: 0.9213 - val_loss: 0.5483 - val_accuracy: 0.8300\n",
            "Epoch 4/10\n",
            "24/24 [==============================] - 0s 5ms/step - loss: 0.2098 - accuracy: 0.9300 - val_loss: 0.5372 - val_accuracy: 0.8420\n",
            "Epoch 5/10\n",
            "24/24 [==============================] - 0s 5ms/step - loss: 0.1978 - accuracy: 0.9300 - val_loss: 0.5367 - val_accuracy: 0.8520\n",
            "Epoch 6/10\n",
            "24/24 [==============================] - 0s 5ms/step - loss: 0.1871 - accuracy: 0.9493 - val_loss: 0.5384 - val_accuracy: 0.8580\n",
            "Epoch 7/10\n",
            "24/24 [==============================] - 0s 5ms/step - loss: 0.1648 - accuracy: 0.9560 - val_loss: 0.5386 - val_accuracy: 0.8600\n",
            "Epoch 8/10\n",
            "24/24 [==============================] - 0s 5ms/step - loss: 0.1718 - accuracy: 0.9440 - val_loss: 0.5458 - val_accuracy: 0.8580\n",
            "Epoch 9/10\n",
            "24/24 [==============================] - 0s 5ms/step - loss: 0.1629 - accuracy: 0.9507 - val_loss: 0.5386 - val_accuracy: 0.8500\n",
            "Epoch 10/10\n",
            "24/24 [==============================] - 0s 5ms/step - loss: 0.1697 - accuracy: 0.9493 - val_loss: 0.5422 - val_accuracy: 0.8520\n"
          ],
          "name": "stdout"
        }
      ]
    },
    {
      "cell_type": "markdown",
      "metadata": {
        "id": "aEgwnLcvuk79"
      },
      "source": [
        "Evaluating the model on test data"
      ]
    },
    {
      "cell_type": "code",
      "metadata": {
        "colab": {
          "base_uri": "https://localhost:8080/"
        },
        "id": "bG67HCFySTSh",
        "outputId": "0d95ff25-5047-4236-ea4e-1b06157327e3"
      },
      "source": [
        "model.evaluate(X_test, y_test)"
      ],
      "execution_count": null,
      "outputs": [
        {
          "output_type": "stream",
          "text": [
            "32/32 [==============================] - 0s 2ms/step - loss: 0.4234 - accuracy: 0.8510\n"
          ],
          "name": "stdout"
        },
        {
          "output_type": "execute_result",
          "data": {
            "text/plain": [
              "[0.42344990372657776, 0.8510000109672546]"
            ]
          },
          "metadata": {
            "tags": []
          },
          "execution_count": 53
        }
      ]
    },
    {
      "cell_type": "code",
      "metadata": {
        "colab": {
          "base_uri": "https://localhost:8080/",
          "height": 404
        },
        "id": "6Bnfh4iZ2EoT",
        "outputId": "ce195899-6d03-4d22-bf85-645262ff8e12"
      },
      "source": [
        "# summarize history for loss\n",
        "fig, axs = plt.subplots(1, 2,figsize=(10, 6))\n",
        "axs[0].plot(history.history['loss'])\n",
        "axs[0].plot(history.history['val_loss'])\n",
        "axs[0].set_title('Loss function')\n",
        "axs[0].set_ylabel('loss')\n",
        "axs[0].set_xlabel('epoch')\n",
        "axs[0].legend(['train', 'validation'], loc='upper left')\n",
        "\n",
        "# summarize history for accuracy\n",
        "axs[1].plot(history.history['accuracy'])\n",
        "axs[1].plot(history.history['val_accuracy'])\n",
        "axs[1].set_title('Accuracy')\n",
        "axs[1].set_ylabel('accuracy')\n",
        "axs[1].set_xlabel('epoch')\n",
        "axs[1].legend(['train', 'validation'], loc='upper left')\n",
        "\n",
        "plt.show()"
      ],
      "execution_count": null,
      "outputs": [
        {
          "output_type": "display_data",
          "data": {
            "image/png": "[encoded data removed]",
            "text/plain": [
              "<Figure size 720x432 with 2 Axes>"
            ]
          },
          "metadata": {
            "tags": [],
            "needs_background": "light"
          }
        }
      ]
    },
    {
      "cell_type": "markdown",
      "metadata": {
        "id": "RYCakaqphl_f"
      },
      "source": [
        "As can be seen in the results of the epochs and also more clearly in both graphs above, even this simple network seems to overfit our problem. At first, this seems strange, especially as this similar network gave good results for the MNIST dataset. At the same time, it is important to highlight that this problem has at its disposal a total of 2000 images, divided between train and validation. As for the MNIST dataset, there were 60000 images."
      ]
    },
    {
      "cell_type": "markdown",
      "metadata": {
        "id": "pOm6fmrfJQcf"
      },
      "source": [
        "## Looking for Better Results"
      ]
    },
    {
      "cell_type": "markdown",
      "metadata": {
        "id": "zFdv8dN1q5vE"
      },
      "source": [
        "In MLPs each layer of the network contained fully connected layers. One drawback of that approach is that each hidden unit is connected to each input unit, in a way that there is high redundancy in these weights. For many types of data with grid-like topological structures (for example images), the number of parameters increase rapidly and usually in an unnecessary way. \n",
        "\n",
        "\n",
        "For that reason, convolution operation is often extremely useful. It not only reduces the number of parameters to train, making the training faster, but also minimizes the chance of falling into a local minimum during optimization.\n",
        "The CNN can easily be implemented in Keras substituting the Dense layers for Conv2D layers.\n",
        "\n",
        "\n",
        "One other advantage of using CNN is that we can obtain shift invariance property through Max pooling, that is, being able to detect objects wherever they are in the image.\n",
        "\n",
        "\n",
        "Therefore, a simple classification CNN architecture often consists of:\n",
        "\n",
        "$$ Convolution \\rightarrow biases\\rightarrow non-linearities \\rightarrow  subsampling $$\n",
        "\n",
        "After this, a classification section is used:\n",
        "\n",
        "$$Fully connected layer \\rightarrow non-linearity $$\n",
        "\n",
        "One last remark is that we can perform data augmentation, which is a technique to increase the diversity of the training set by applying random (but realistic) transformations such as image rotation.\n"
      ]
    },
    {
      "cell_type": "code",
      "metadata": {
        "id": "NBj4KEPOTPS_",
        "colab": {
          "base_uri": "https://localhost:8080/"
        },
        "outputId": "03b799dd-52a7-4182-f2e5-b78ed458ae72"
      },
      "source": [
        "# number of convolutional filters to use\n",
        "nb_filters = 32\n",
        "# convolution kernel size\n",
        "kernel_size = (3, 3)\n",
        "# size of pooling area for max pooling\n",
        "pool_size = (2, 2)\n",
        "\n",
        "# data augmentation\n",
        "data_augmentation = tf.keras.Sequential([\n",
        "  tf.keras.layers.experimental.preprocessing.Rescaling((-0.1,0.1)),\n",
        "  tf.keras.layers.experimental.preprocessing.RandomTranslation(height_factor=(-0.1, 0.1),width_factor=(-0.1, 0.1)),\n",
        "  tf.keras.layers.experimental.preprocessing.RandomRotation(0.1)\n",
        "])\n",
        "\n",
        "# model definition\n",
        "model_cnn = Sequential()\n",
        "model_cnn.add(data_augmentation)\n",
        "model_cnn.add(Conv2D(16, 3, padding='same', activation='relu'))\n",
        "model_cnn.add(MaxPooling2D())\n",
        "model_cnn.add(Conv2D(nb_filters,kernel_size,activation='relu',strides=(1, 1), padding=\"same\", input_shape=(28,28,1)))\n",
        "model_cnn.add(Dropout(0.2))\n",
        "model_cnn.add(Conv2D(nb_filters,kernel_size,activation='relu',strides=(1, 1), padding=\"same\"))\n",
        "model_cnn.add(Dropout(0.2))\n",
        "model_cnn.add(MaxPooling2D((2, 2)))\n",
        "model_cnn.add(Flatten())\n",
        "model_cnn.add(Dense(1,activation='sigmoid'))\n",
        "\n",
        "\n",
        "model_cnn.build((X_train.shape[0],28,28,1))\n",
        "\n",
        "learning_rate = 0.005\n",
        "\n",
        "model_cnn.compile(loss='binary_crossentropy', optimizer=optimizers.Adam(lr=learning_rate),metrics=[\"accuracy\"])\n",
        "model_cnn.summary()\n",
        "\n",
        "n_epochs = 30\n",
        "batch_size = 64\n",
        "\n",
        "# fit model\n",
        "history_cnn = model_cnn.fit(X_train.reshape((X_train.shape[0],28,28,1)), y_train, epochs=n_epochs, batch_size=batch_size, validation_data = (X_val.reshape((X_val.shape[0],28,28,1)), y_val))\n",
        "\n",
        "# Results\n",
        "score = model_cnn.evaluate(X_test.reshape((X_test.shape[0],28,28,1)), y_test, verbose=False)\n",
        "predict_cnn = model_cnn.predict(X_test.reshape((X_test.shape[0],28,28,1)))\n",
        "print('Test loss:', score[0])\n",
        "print('Test accuracy:', score[1])"
      ],
      "execution_count": null,
      "outputs": [
        {
          "output_type": "stream",
          "text": [
            "Model: \"sequential_26\"\n",
            "_________________________________________________________________\n",
            "Layer (type)                 Output Shape              Param #   \n",
            "=================================================================\n",
            "sequential_25 (Sequential)   (1500, 28, 28, 2)         0         \n",
            "_________________________________________________________________\n",
            "conv2d_36 (Conv2D)           (1500, 28, 28, 16)        304       \n",
            "_________________________________________________________________\n",
            "max_pooling2d_24 (MaxPooling (1500, 14, 14, 16)        0         \n",
            "_________________________________________________________________\n",
            "conv2d_37 (Conv2D)           (1500, 14, 14, 32)        4640      \n",
            "_________________________________________________________________\n",
            "dropout_25 (Dropout)         (1500, 14, 14, 32)        0         \n",
            "_________________________________________________________________\n",
            "conv2d_38 (Conv2D)           (1500, 14, 14, 32)        9248      \n",
            "_________________________________________________________________\n",
            "dropout_26 (Dropout)         (1500, 14, 14, 32)        0         \n",
            "_________________________________________________________________\n",
            "max_pooling2d_25 (MaxPooling (1500, 7, 7, 32)          0         \n",
            "_________________________________________________________________\n",
            "flatten_12 (Flatten)         (1500, 1568)              0         \n",
            "_________________________________________________________________\n",
            "dense_14 (Dense)             (1500, 1)                 1569      \n",
            "=================================================================\n",
            "Total params: 15,761\n",
            "Trainable params: 15,761\n",
            "Non-trainable params: 0\n",
            "_________________________________________________________________\n",
            "Epoch 1/30\n",
            "24/24 [==============================] - 2s 14ms/step - loss: 0.6182 - accuracy: 0.5974 - val_loss: 0.4162 - val_accuracy: 0.8560\n",
            "Epoch 2/30\n",
            "24/24 [==============================] - 0s 7ms/step - loss: 0.4284 - accuracy: 0.8344 - val_loss: 0.3497 - val_accuracy: 0.8680\n",
            "Epoch 3/30\n",
            "24/24 [==============================] - 0s 7ms/step - loss: 0.4107 - accuracy: 0.8303 - val_loss: 0.3525 - val_accuracy: 0.8840\n",
            "Epoch 4/30\n",
            "24/24 [==============================] - 0s 8ms/step - loss: 0.3828 - accuracy: 0.8484 - val_loss: 0.3344 - val_accuracy: 0.8540\n",
            "Epoch 5/30\n",
            "24/24 [==============================] - 0s 7ms/step - loss: 0.3672 - accuracy: 0.8272 - val_loss: 0.3406 - val_accuracy: 0.8780\n",
            "Epoch 6/30\n",
            "24/24 [==============================] - 0s 7ms/step - loss: 0.3677 - accuracy: 0.8468 - val_loss: 0.3224 - val_accuracy: 0.8800\n",
            "Epoch 7/30\n",
            "24/24 [==============================] - 0s 8ms/step - loss: 0.3543 - accuracy: 0.8613 - val_loss: 0.2894 - val_accuracy: 0.8860\n",
            "Epoch 8/30\n",
            "24/24 [==============================] - 0s 7ms/step - loss: 0.3257 - accuracy: 0.8602 - val_loss: 0.2702 - val_accuracy: 0.8940\n",
            "Epoch 9/30\n",
            "24/24 [==============================] - 0s 7ms/step - loss: 0.3394 - accuracy: 0.8599 - val_loss: 0.2830 - val_accuracy: 0.8960\n",
            "Epoch 10/30\n",
            "24/24 [==============================] - 0s 8ms/step - loss: 0.3196 - accuracy: 0.8704 - val_loss: 0.2443 - val_accuracy: 0.9080\n",
            "Epoch 11/30\n",
            "24/24 [==============================] - 0s 8ms/step - loss: 0.3082 - accuracy: 0.8744 - val_loss: 0.3069 - val_accuracy: 0.8980\n",
            "Epoch 12/30\n",
            "24/24 [==============================] - 0s 7ms/step - loss: 0.2797 - accuracy: 0.8860 - val_loss: 0.2456 - val_accuracy: 0.9140\n",
            "Epoch 13/30\n",
            "24/24 [==============================] - 0s 8ms/step - loss: 0.2736 - accuracy: 0.8962 - val_loss: 0.2234 - val_accuracy: 0.9260\n",
            "Epoch 14/30\n",
            "24/24 [==============================] - 0s 7ms/step - loss: 0.2439 - accuracy: 0.8995 - val_loss: 0.2334 - val_accuracy: 0.9120\n",
            "Epoch 15/30\n",
            "24/24 [==============================] - 0s 8ms/step - loss: 0.2684 - accuracy: 0.9108 - val_loss: 0.2594 - val_accuracy: 0.9160\n",
            "Epoch 16/30\n",
            "24/24 [==============================] - 0s 8ms/step - loss: 0.2528 - accuracy: 0.8967 - val_loss: 0.2057 - val_accuracy: 0.9280\n",
            "Epoch 17/30\n",
            "24/24 [==============================] - 0s 8ms/step - loss: 0.2640 - accuracy: 0.9013 - val_loss: 0.2281 - val_accuracy: 0.9240\n",
            "Epoch 18/30\n",
            "24/24 [==============================] - 0s 7ms/step - loss: 0.2328 - accuracy: 0.9176 - val_loss: 0.1684 - val_accuracy: 0.9360\n",
            "Epoch 19/30\n",
            "24/24 [==============================] - 0s 7ms/step - loss: 0.2146 - accuracy: 0.9175 - val_loss: 0.1535 - val_accuracy: 0.9360\n",
            "Epoch 20/30\n",
            "24/24 [==============================] - 0s 7ms/step - loss: 0.2253 - accuracy: 0.9063 - val_loss: 0.1481 - val_accuracy: 0.9460\n",
            "Epoch 21/30\n",
            "24/24 [==============================] - 0s 8ms/step - loss: 0.2505 - accuracy: 0.9034 - val_loss: 0.1955 - val_accuracy: 0.9400\n",
            "Epoch 22/30\n",
            "24/24 [==============================] - 0s 8ms/step - loss: 0.2179 - accuracy: 0.9145 - val_loss: 0.1701 - val_accuracy: 0.9420\n",
            "Epoch 23/30\n",
            "24/24 [==============================] - 0s 7ms/step - loss: 0.2408 - accuracy: 0.9030 - val_loss: 0.1706 - val_accuracy: 0.9380\n",
            "Epoch 24/30\n",
            "24/24 [==============================] - 0s 8ms/step - loss: 0.2313 - accuracy: 0.9101 - val_loss: 0.1470 - val_accuracy: 0.9400\n",
            "Epoch 25/30\n",
            "24/24 [==============================] - 0s 7ms/step - loss: 0.2244 - accuracy: 0.9188 - val_loss: 0.1634 - val_accuracy: 0.9440\n",
            "Epoch 26/30\n",
            "24/24 [==============================] - 0s 7ms/step - loss: 0.2047 - accuracy: 0.9235 - val_loss: 0.1420 - val_accuracy: 0.9420\n",
            "Epoch 27/30\n",
            "24/24 [==============================] - 0s 8ms/step - loss: 0.2106 - accuracy: 0.9251 - val_loss: 0.2491 - val_accuracy: 0.9180\n",
            "Epoch 28/30\n",
            "24/24 [==============================] - 0s 7ms/step - loss: 0.1965 - accuracy: 0.9316 - val_loss: 0.1553 - val_accuracy: 0.9360\n",
            "Epoch 29/30\n",
            "24/24 [==============================] - 0s 8ms/step - loss: 0.1947 - accuracy: 0.9303 - val_loss: 0.2398 - val_accuracy: 0.9160\n",
            "Epoch 30/30\n",
            "24/24 [==============================] - 0s 7ms/step - loss: 0.2008 - accuracy: 0.9281 - val_loss: 0.1397 - val_accuracy: 0.9440\n",
            "Test loss: 0.18916580080986023\n",
            "Test accuracy: 0.9340000152587891\n"
          ],
          "name": "stdout"
        }
      ]
    },
    {
      "cell_type": "code",
      "metadata": {
        "colab": {
          "base_uri": "https://localhost:8080/",
          "height": 404
        },
        "id": "5gQJCSzi24X1",
        "outputId": "7c6b7559-b986-4759-e799-9f6b6708336b"
      },
      "source": [
        "# summarize history for loss\n",
        "fig, axs = plt.subplots(1, 2,figsize=(10, 6))\n",
        "axs[0].plot(history_cnn.history['loss'])\n",
        "axs[0].plot(history_cnn.history['val_loss'])\n",
        "axs[0].set_title('Loss function')\n",
        "axs[0].set_ylabel('loss')\n",
        "axs[0].set_xlabel('epoch')\n",
        "axs[0].legend(['train', 'validation'], loc='upper left')\n",
        "\n",
        "# summarize history for accuracy\n",
        "axs[1].plot(history_cnn.history['accuracy'])\n",
        "axs[1].plot(history_cnn.history['val_accuracy'])\n",
        "axs[1].set_title('Accuracy')\n",
        "axs[1].set_ylabel('accuracy')\n",
        "axs[1].set_xlabel('epoch')\n",
        "axs[1].legend(['train', 'validation'], loc='upper left')\n",
        "\n",
        "plt.show()"
      ],
      "execution_count": null,
      "outputs": [
        {
          "output_type": "display_data",
          "data": {
            "image/png": "[encoded data removed]",
            "text/plain": [
              "<Figure size 720x432 with 2 Axes>"
            ]
          },
          "metadata": {
            "tags": [],
            "needs_background": "light"
          }
        }
      ]
    },
    {
      "cell_type": "markdown",
      "metadata": {
        "id": "XuTStu3VvMyf"
      },
      "source": [
        "As can be seen in the graph above, the CNN method really seams to be able to improve our results (from around 85% for the other methods to around 93.5%). One remark on the accuracy and loss evaluation graphs is that sometimes the validation results are better than the train ones. This is normal as we are using Dropout (the turned off neurons are turned back on in the validation step).\n",
        "\n",
        "Overall, an error rate was expected due to the quality of the drawings. However, otherwise the other methods, the CNN seems to better generalize the data, being able to classify ants that are not in the “standard “position of ant drawings, so as grapes.\n",
        "\n",
        " \n"
      ]
    },
    {
      "cell_type": "code",
      "metadata": {
        "colab": {
          "base_uri": "https://localhost:8080/",
          "height": 321
        },
        "id": "FJCYpsk0_HP9",
        "outputId": "00beef3a-9a49-4a87-d424-2b14431d63fe"
      },
      "source": [
        "#Turning Keras probability result to binary \n",
        "c=np.zeros(predict_cnn.size)\n",
        "for i in range(predict_cnn.size):\n",
        "  if predict_cnn[i] <0.5:\n",
        "    c[i]=0\n",
        "  else:\n",
        "    c[i]=1\n",
        "\n",
        "# Getting array of indexes of misclassifications\n",
        "error=np.ravel(np.array(np.where(np.abs(c-np.ravel(y_test)))))  \n",
        "random.Random(1).shuffle(error)\n",
        "\n",
        "# Plotting examples from misclassifications  images\n",
        "plt.figure(figsize=(10, 6))\n",
        "for idx in range(0,10):\n",
        "    plt.subplot(2, 5, idx+1)\n",
        "    plt.imshow(X_test[error[idx]].reshape(-1, 28),cmap='gray')\n",
        "    plt.axis('off')\n",
        "    if c[error[idx]]==0: i=\"Ant\"\n",
        "    else: i = \"Grape\"\n",
        "    plt.title(\"Pred as: \" + i)\n",
        "plt.show()"
      ],
      "execution_count": null,
      "outputs": [
        {
          "output_type": "display_data",
          "data": {
            "image/png": "[encoded data removed]",
            "text/plain": [
              "<Figure size 720x432 with 10 Axes>"
            ]
          },
          "metadata": {
            "tags": [],
            "needs_background": "light"
          }
        }
      ]
    },
    {
      "cell_type": "markdown",
      "metadata": {
        "id": "dKFl1iy2l8h5"
      },
      "source": [
        "Having a look again to some examples of mistakes made in the classification, it can be seen that now, more that in the linear SVM case, the mistakes are really mostly unrecognizable blobs. This shows that the CNN in fact probably did a better job generalizing ants and grapes, that is, its able to detect ants that look like ants in multiple positions, as well for the grapes."
      ]
    }
  ]
}